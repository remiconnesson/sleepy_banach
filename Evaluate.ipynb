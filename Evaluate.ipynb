{
 "cells": [
  {
   "cell_type": "code",
   "execution_count": null,
   "metadata": {},
   "outputs": [],
   "source": [
    "print('Load model')\n",
    "print('Model.evaluate')"
   ]
  }
 ],
 "metadata": {
  "kernelspec": {
   "display_name": "sleepy_banach",
   "language": "python",
   "name": "sleepy_banach"
  }
 },
 "nbformat": 4,
 "nbformat_minor": 2
}
