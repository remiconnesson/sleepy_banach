{
 "cells": [
  {
   "cell_type": "code",
   "execution_count": null,
   "metadata": {},
   "outputs": [],
   "source": [
    "print('Import keras. Model.fit()')"
   ]
  }
 ],
 "metadata": {
  "kernelspec": {
   "display_name": "sleepy_banach",
   "language": "python",
   "name": "sleepy_banach"
  }
 },
 "nbformat": 4,
 "nbformat_minor": 2
}
