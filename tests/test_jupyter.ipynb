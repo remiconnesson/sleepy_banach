{
 "cells": [
  {
   "cell_type": "markdown",
   "metadata": {},
   "source": [
    "---\n",
    "\n",
    "_Test passed!._\n",
    "\n",
    "---"
   ]
  }
}
